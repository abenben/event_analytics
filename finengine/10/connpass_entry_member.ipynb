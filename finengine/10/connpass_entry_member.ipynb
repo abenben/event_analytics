{
 "cells": [
  {
   "cell_type": "code",
   "execution_count": null,
   "metadata": {},
   "outputs": [],
   "source": [
    "!pip install pandas\n",
    "!pip install matplotlib"
   ]
  },
  {
   "cell_type": "code",
   "execution_count": null,
   "metadata": {},
   "outputs": [],
   "source": [
    "import pandas as pd\n",
    "\n",
    "%matplotlib inline\n",
    "import matplotlib.pyplot as plt\n",
    "import matplotlib as mpl\n",
    "import matplotlib.font_manager"
   ]
  },
  {
   "cell_type": "code",
   "execution_count": null,
   "metadata": {},
   "outputs": [],
   "source": [
    "# connpassの参加者リストファイル\n",
    "# 「フィンテックエンジニアエンジニア養成勉強会#10 DeFi（分散型金融）の現状とこれから」\n",
    "# https://fintech-engineer.connpass.com/event/186127/\n",
    "# CSV取り込み\n",
    "df = pd.read_csv('event_186127_participants.csv',encoding=\"SHIFT-JIS\",header=0)\n",
    "df.tail(3)"
   ]
  },
  {
   "cell_type": "code",
   "execution_count": null,
   "metadata": {},
   "outputs": [],
   "source": [
    "df=df.replace('営業、企画、経営者、コンサルタントなど非エンジニア系', '営業')\n",
    "df=df.replace('エンジニア系', '　エンジニア')\n",
    "df=df.replace('その他　学校、学生、業界団体など、非営利系','その他')\n",
    "df=df.replace('SI、CI、システム開発、ITベンダ','Sier')\n",
    "df=df.replace('金融機関、金融関係会社','金融')\n",
    "df=df.replace('FinTech、金融サービス事業者','FinTech')\n",
    "df=df.replace('暗号資産取引所やブロックチェーンを専門とする企業','BC企業')\n",
    "df=df.replace('聞いたことがある程度','知ってる')\n",
    "df=df.replace('DeFi関係の仕事をしている','仕事としてる')\n",
    "\n",
    "df = df.rename(columns={'あなたが最も近い職種は？':'職種'})\n",
    "df = df.rename(columns={'あなたが最も近い職種は？':'職種'})\n",
    "df = df.rename(columns={'あなたが最も近い業種は？':'業種'})\n",
    "df = df.rename(columns={'「フィンテックエンジニア養成勉強会」への参加は初めてですか？':'参加回数'})\n",
    "df = df.rename(columns={'住んでいる地域は？':'ロケーション'})\n",
    "df = df.rename(columns={'DeFi（分散型金融）はご存じですか？':'DeFi知識'})\n",
    "df.tail(3)"
   ]
  },
  {
   "cell_type": "code",
   "execution_count": null,
   "metadata": {},
   "outputs": [],
   "source": [
    "#print([f.name for f in matplotlib.font_manager.fontManager.ttflist])\n",
    "mpl.rcParams['font.family'] = 'Hiragino Mincho ProN'"
   ]
  },
  {
   "cell_type": "code",
   "execution_count": null,
   "metadata": {},
   "outputs": [],
   "source": [
    "fig, axes = plt.subplots(nrows=2, ncols=3, figsize=(18,12))\n",
    "df_1=df['職種'].value_counts()\n",
    "df_1.plot( ax=axes[0, 0],kind='bar',legend=True)\n",
    "df_2=df['業種'].value_counts()\n",
    "df_2.plot( ax=axes[0, 1],kind='bar',legend=True)\n",
    "df_3=df['参加回数'].value_counts()\n",
    "df_3.plot( ax=axes[1, 0],kind='bar',legend=True)\n",
    "df_4=df['ロケーション'].value_counts()\n",
    "df_4.plot( ax=axes[1, 1],kind='bar',legend=True)\n",
    "df_5=df['DeFi知識'].value_counts()\n",
    "df_5.plot( ax=axes[0, 2],kind='bar',legend=True)\n",
    "axes[0, 2]=plt.axis(\"off\")\n",
    "\n",
    "plt.savefig('pie.png',bbox_inches='tight',pad_inches=0.05)"
   ]
  },
  {
   "cell_type": "code",
   "execution_count": null,
   "metadata": {},
   "outputs": [],
   "source": []
  }
 ],
 "metadata": {
  "kernelspec": {
   "display_name": "Python 3",
   "language": "python",
   "name": "python3"
  },
  "language_info": {
   "codemirror_mode": {
    "name": "ipython",
    "version": 3
   },
   "file_extension": ".py",
   "mimetype": "text/x-python",
   "name": "python",
   "nbconvert_exporter": "python",
   "pygments_lexer": "ipython3",
   "version": "3.8.5"
  }
 },
 "nbformat": 4,
 "nbformat_minor": 4
}
